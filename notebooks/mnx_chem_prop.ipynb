{
 "cells": [
  {
   "cell_type": "code",
   "execution_count": 1,
   "id": "a5d686f2-6332-476d-93d1-a33437a2e253",
   "metadata": {},
   "outputs": [],
   "source": [
    "import os\n",
    "from pathlib import Path"
   ]
  },
  {
   "cell_type": "code",
   "execution_count": 2,
   "id": "68fac7e6-a36e-4edf-a4e2-b9621e37fa4d",
   "metadata": {},
   "outputs": [],
   "source": [
    "os.environ[\"DAGSTER_HOME\"] = str(Path().resolve().parent / \"work\")"
   ]
  },
  {
   "cell_type": "code",
   "execution_count": 3,
   "id": "d0e926df-5d18-419d-97f4-48cf3a941f95",
   "metadata": {
    "scrolled": true
   },
   "outputs": [
    {
     "name": "stderr",
     "output_type": "stream",
     "text": [
      "/home/moritz/Codebase/opentecr/data-orchestration/src/data_orchestration/opentecr/asset/bronze.py:29: ExperimentalWarning: Parameter `tags` of function `graph_asset` is experimental. It may break in future versions, even between dot releases. To mute warnings for experimental functionality, invoke warnings.filterwarnings(\"ignore\", category=dagster.ExperimentalWarning) or use one of the other methods described at https://docs.python.org/3/library/warnings.html#describing-warning-filters.\n",
      "  @graph_asset(\n",
      "/home/moritz/.pyenv/versions/tecr-data/lib/python3.12/site-packages/dagster/_core/definitions/decorators/asset_decorator.py:767: ExperimentalWarning: Parameter `tags` of function `graph_asset` is experimental. It may break in future versions, even between dot releases. To mute warnings for experimental functionality, invoke warnings.filterwarnings(\"ignore\", category=dagster.ExperimentalWarning) or use one of the other methods described at https://docs.python.org/3/library/warnings.html#describing-warning-filters.\n",
      "  return lambda fn: graph_asset(\n",
      "/home/moritz/Codebase/opentecr/data-orchestration/src/data_orchestration/opentecr/asset/bronze.py:47: ExperimentalWarning: Parameter `tags` of function `graph_asset` is experimental. It may break in future versions, even between dot releases. To mute warnings for experimental functionality, invoke warnings.filterwarnings(\"ignore\", category=dagster.ExperimentalWarning) or use one of the other methods described at https://docs.python.org/3/library/warnings.html#describing-warning-filters.\n",
      "  @graph_asset(\n",
      "/home/moritz/.pyenv/versions/tecr-data/lib/python3.12/site-packages/dagster/_core/definitions/decorators/asset_decorator.py:767: ExperimentalWarning: Parameter `tags` of function `graph_asset` is experimental. It may break in future versions, even between dot releases. To mute warnings for experimental functionality, invoke warnings.filterwarnings(\"ignore\", category=dagster.ExperimentalWarning) or use one of the other methods described at https://docs.python.org/3/library/warnings.html#describing-warning-filters.\n",
      "  return lambda fn: graph_asset(\n",
      "/home/moritz/Codebase/opentecr/data-orchestration/src/data_orchestration/opentecr/asset/bronze.py:63: ExperimentalWarning: Parameter `tags` of function `graph_asset` is experimental. It may break in future versions, even between dot releases. To mute warnings for experimental functionality, invoke warnings.filterwarnings(\"ignore\", category=dagster.ExperimentalWarning) or use one of the other methods described at https://docs.python.org/3/library/warnings.html#describing-warning-filters.\n",
      "  @graph_asset(\n",
      "/home/moritz/.pyenv/versions/tecr-data/lib/python3.12/site-packages/dagster/_core/definitions/decorators/asset_decorator.py:767: ExperimentalWarning: Parameter `tags` of function `graph_asset` is experimental. It may break in future versions, even between dot releases. To mute warnings for experimental functionality, invoke warnings.filterwarnings(\"ignore\", category=dagster.ExperimentalWarning) or use one of the other methods described at https://docs.python.org/3/library/warnings.html#describing-warning-filters.\n",
      "  return lambda fn: graph_asset(\n",
      "/home/moritz/Codebase/opentecr/data-orchestration/src/data_orchestration/opentecr/asset/bronze.py:79: ExperimentalWarning: Parameter `tags` of function `graph_asset` is experimental. It may break in future versions, even between dot releases. To mute warnings for experimental functionality, invoke warnings.filterwarnings(\"ignore\", category=dagster.ExperimentalWarning) or use one of the other methods described at https://docs.python.org/3/library/warnings.html#describing-warning-filters.\n",
      "  @graph_asset(\n",
      "/home/moritz/.pyenv/versions/tecr-data/lib/python3.12/site-packages/dagster/_core/definitions/decorators/asset_decorator.py:767: ExperimentalWarning: Parameter `tags` of function `graph_asset` is experimental. It may break in future versions, even between dot releases. To mute warnings for experimental functionality, invoke warnings.filterwarnings(\"ignore\", category=dagster.ExperimentalWarning) or use one of the other methods described at https://docs.python.org/3/library/warnings.html#describing-warning-filters.\n",
      "  return lambda fn: graph_asset(\n",
      "/home/moritz/.pyenv/versions/tecr-data/lib/python3.12/site-packages/dagster/_core/decorator_utils.py:203: ExperimentalWarning: Parameter `tags` of function `asset` is experimental. It may break in future versions, even between dot releases. To mute warnings for experimental functionality, invoke warnings.filterwarnings(\"ignore\", category=dagster.ExperimentalWarning) or use one of the other methods described at https://docs.python.org/3/library/warnings.html#describing-warning-filters.\n",
      "  return fn(*args, **kwargs)\n",
      "/home/moritz/.pyenv/versions/tecr-data/lib/python3.12/site-packages/dagster/_core/decorator_utils.py:203: ExperimentalWarning: Parameter `tags` of function `asset` is experimental. It may break in future versions, even between dot releases. To mute warnings for experimental functionality, invoke warnings.filterwarnings(\"ignore\", category=dagster.ExperimentalWarning) or use one of the other methods described at https://docs.python.org/3/library/warnings.html#describing-warning-filters.\n",
      "  return fn(*args, **kwargs)\n",
      "/home/moritz/.pyenv/versions/tecr-data/lib/python3.12/site-packages/dagster/_core/decorator_utils.py:203: ExperimentalWarning: Parameter `tags` of function `asset` is experimental. It may break in future versions, even between dot releases. To mute warnings for experimental functionality, invoke warnings.filterwarnings(\"ignore\", category=dagster.ExperimentalWarning) or use one of the other methods described at https://docs.python.org/3/library/warnings.html#describing-warning-filters.\n",
      "  return fn(*args, **kwargs)\n",
      "/home/moritz/.pyenv/versions/tecr-data/lib/python3.12/site-packages/dagster/_core/decorator_utils.py:203: ExperimentalWarning: Parameter `tags` of function `asset` is experimental. It may break in future versions, even between dot releases. To mute warnings for experimental functionality, invoke warnings.filterwarnings(\"ignore\", category=dagster.ExperimentalWarning) or use one of the other methods described at https://docs.python.org/3/library/warnings.html#describing-warning-filters.\n",
      "  return fn(*args, **kwargs)\n",
      "/home/moritz/.pyenv/versions/tecr-data/lib/python3.12/site-packages/dagster/_core/decorator_utils.py:203: ExperimentalWarning: Parameter `tags` of function `asset` is experimental. It may break in future versions, even between dot releases. To mute warnings for experimental functionality, invoke warnings.filterwarnings(\"ignore\", category=dagster.ExperimentalWarning) or use one of the other methods described at https://docs.python.org/3/library/warnings.html#describing-warning-filters.\n",
      "  return fn(*args, **kwargs)\n",
      "/home/moritz/.pyenv/versions/tecr-data/lib/python3.12/site-packages/dagster/_core/decorator_utils.py:203: ExperimentalWarning: Parameter `tags` of function `asset` is experimental. It may break in future versions, even between dot releases. To mute warnings for experimental functionality, invoke warnings.filterwarnings(\"ignore\", category=dagster.ExperimentalWarning) or use one of the other methods described at https://docs.python.org/3/library/warnings.html#describing-warning-filters.\n",
      "  return fn(*args, **kwargs)\n",
      "/home/moritz/.pyenv/versions/tecr-data/lib/python3.12/site-packages/dagster/_core/decorator_utils.py:203: ExperimentalWarning: Parameter `tags` of function `asset` is experimental. It may break in future versions, even between dot releases. To mute warnings for experimental functionality, invoke warnings.filterwarnings(\"ignore\", category=dagster.ExperimentalWarning) or use one of the other methods described at https://docs.python.org/3/library/warnings.html#describing-warning-filters.\n",
      "  return fn(*args, **kwargs)\n",
      "/home/moritz/Codebase/opentecr/data-orchestration/src/data_orchestration/metanetx/asset.py:9: ExperimentalWarning: Parameter `tags` of function `graph_asset` is experimental. It may break in future versions, even between dot releases. To mute warnings for experimental functionality, invoke warnings.filterwarnings(\"ignore\", category=dagster.ExperimentalWarning) or use one of the other methods described at https://docs.python.org/3/library/warnings.html#describing-warning-filters.\n",
      "  @graph_asset(\n",
      "/home/moritz/.pyenv/versions/tecr-data/lib/python3.12/site-packages/dagster/_core/definitions/decorators/asset_decorator.py:767: ExperimentalWarning: Parameter `tags` of function `graph_asset` is experimental. It may break in future versions, even between dot releases. To mute warnings for experimental functionality, invoke warnings.filterwarnings(\"ignore\", category=dagster.ExperimentalWarning) or use one of the other methods described at https://docs.python.org/3/library/warnings.html#describing-warning-filters.\n",
      "  return lambda fn: graph_asset(\n",
      "/home/moritz/Codebase/opentecr/data-orchestration/src/data_orchestration/metanetx/asset.py:30: ExperimentalWarning: Parameter `tags` of function `graph_asset` is experimental. It may break in future versions, even between dot releases. To mute warnings for experimental functionality, invoke warnings.filterwarnings(\"ignore\", category=dagster.ExperimentalWarning) or use one of the other methods described at https://docs.python.org/3/library/warnings.html#describing-warning-filters.\n",
      "  @graph_asset(\n",
      "/home/moritz/.pyenv/versions/tecr-data/lib/python3.12/site-packages/dagster/_core/definitions/decorators/asset_decorator.py:767: ExperimentalWarning: Parameter `tags` of function `graph_asset` is experimental. It may break in future versions, even between dot releases. To mute warnings for experimental functionality, invoke warnings.filterwarnings(\"ignore\", category=dagster.ExperimentalWarning) or use one of the other methods described at https://docs.python.org/3/library/warnings.html#describing-warning-filters.\n",
      "  return lambda fn: graph_asset(\n",
      "/home/moritz/Codebase/opentecr/data-orchestration/src/data_orchestration/metanetx/asset.py:51: ExperimentalWarning: Parameter `tags` of function `graph_asset` is experimental. It may break in future versions, even between dot releases. To mute warnings for experimental functionality, invoke warnings.filterwarnings(\"ignore\", category=dagster.ExperimentalWarning) or use one of the other methods described at https://docs.python.org/3/library/warnings.html#describing-warning-filters.\n",
      "  @graph_asset(\n",
      "/home/moritz/.pyenv/versions/tecr-data/lib/python3.12/site-packages/dagster/_core/definitions/decorators/asset_decorator.py:767: ExperimentalWarning: Parameter `tags` of function `graph_asset` is experimental. It may break in future versions, even between dot releases. To mute warnings for experimental functionality, invoke warnings.filterwarnings(\"ignore\", category=dagster.ExperimentalWarning) or use one of the other methods described at https://docs.python.org/3/library/warnings.html#describing-warning-filters.\n",
      "  return lambda fn: graph_asset(\n",
      "/home/moritz/Codebase/opentecr/data-orchestration/src/data_orchestration/metanetx/asset.py:72: ExperimentalWarning: Parameter `tags` of function `graph_asset` is experimental. It may break in future versions, even between dot releases. To mute warnings for experimental functionality, invoke warnings.filterwarnings(\"ignore\", category=dagster.ExperimentalWarning) or use one of the other methods described at https://docs.python.org/3/library/warnings.html#describing-warning-filters.\n",
      "  @graph_asset(\n",
      "/home/moritz/.pyenv/versions/tecr-data/lib/python3.12/site-packages/dagster/_core/definitions/decorators/asset_decorator.py:767: ExperimentalWarning: Parameter `tags` of function `graph_asset` is experimental. It may break in future versions, even between dot releases. To mute warnings for experimental functionality, invoke warnings.filterwarnings(\"ignore\", category=dagster.ExperimentalWarning) or use one of the other methods described at https://docs.python.org/3/library/warnings.html#describing-warning-filters.\n",
      "  return lambda fn: graph_asset(\n",
      "/home/moritz/Codebase/opentecr/data-orchestration/src/data_orchestration/metanetx/asset.py:93: ExperimentalWarning: Parameter `tags` of function `graph_asset` is experimental. It may break in future versions, even between dot releases. To mute warnings for experimental functionality, invoke warnings.filterwarnings(\"ignore\", category=dagster.ExperimentalWarning) or use one of the other methods described at https://docs.python.org/3/library/warnings.html#describing-warning-filters.\n",
      "  @graph_asset(\n",
      "/home/moritz/.pyenv/versions/tecr-data/lib/python3.12/site-packages/dagster/_core/definitions/decorators/asset_decorator.py:767: ExperimentalWarning: Parameter `tags` of function `graph_asset` is experimental. It may break in future versions, even between dot releases. To mute warnings for experimental functionality, invoke warnings.filterwarnings(\"ignore\", category=dagster.ExperimentalWarning) or use one of the other methods described at https://docs.python.org/3/library/warnings.html#describing-warning-filters.\n",
      "  return lambda fn: graph_asset(\n",
      "/home/moritz/Codebase/opentecr/data-orchestration/src/data_orchestration/metanetx/asset.py:114: ExperimentalWarning: Parameter `tags` of function `graph_asset` is experimental. It may break in future versions, even between dot releases. To mute warnings for experimental functionality, invoke warnings.filterwarnings(\"ignore\", category=dagster.ExperimentalWarning) or use one of the other methods described at https://docs.python.org/3/library/warnings.html#describing-warning-filters.\n",
      "  @graph_asset(\n",
      "/home/moritz/.pyenv/versions/tecr-data/lib/python3.12/site-packages/dagster/_core/definitions/decorators/asset_decorator.py:767: ExperimentalWarning: Parameter `tags` of function `graph_asset` is experimental. It may break in future versions, even between dot releases. To mute warnings for experimental functionality, invoke warnings.filterwarnings(\"ignore\", category=dagster.ExperimentalWarning) or use one of the other methods described at https://docs.python.org/3/library/warnings.html#describing-warning-filters.\n",
      "  return lambda fn: graph_asset(\n",
      "/home/moritz/Codebase/opentecr/data-orchestration/src/data_orchestration/metanetx/asset.py:145: ExperimentalWarning: Parameter `tags` of function `graph_asset` is experimental. It may break in future versions, even between dot releases. To mute warnings for experimental functionality, invoke warnings.filterwarnings(\"ignore\", category=dagster.ExperimentalWarning) or use one of the other methods described at https://docs.python.org/3/library/warnings.html#describing-warning-filters.\n",
      "  @graph_asset(\n",
      "/home/moritz/.pyenv/versions/tecr-data/lib/python3.12/site-packages/dagster/_core/definitions/decorators/asset_decorator.py:767: ExperimentalWarning: Parameter `tags` of function `graph_asset` is experimental. It may break in future versions, even between dot releases. To mute warnings for experimental functionality, invoke warnings.filterwarnings(\"ignore\", category=dagster.ExperimentalWarning) or use one of the other methods described at https://docs.python.org/3/library/warnings.html#describing-warning-filters.\n",
      "  return lambda fn: graph_asset(\n",
      "/home/moritz/Codebase/opentecr/data-orchestration/src/data_orchestration/metanetx/asset.py:166: ExperimentalWarning: Parameter `tags` of function `graph_asset` is experimental. It may break in future versions, even between dot releases. To mute warnings for experimental functionality, invoke warnings.filterwarnings(\"ignore\", category=dagster.ExperimentalWarning) or use one of the other methods described at https://docs.python.org/3/library/warnings.html#describing-warning-filters.\n",
      "  @graph_asset(\n",
      "/home/moritz/.pyenv/versions/tecr-data/lib/python3.12/site-packages/dagster/_core/definitions/decorators/asset_decorator.py:767: ExperimentalWarning: Parameter `tags` of function `graph_asset` is experimental. It may break in future versions, even between dot releases. To mute warnings for experimental functionality, invoke warnings.filterwarnings(\"ignore\", category=dagster.ExperimentalWarning) or use one of the other methods described at https://docs.python.org/3/library/warnings.html#describing-warning-filters.\n",
      "  return lambda fn: graph_asset(\n",
      "/home/moritz/Codebase/opentecr/data-orchestration/src/data_orchestration/metanetx/asset.py:187: ExperimentalWarning: Parameter `tags` of function `graph_asset` is experimental. It may break in future versions, even between dot releases. To mute warnings for experimental functionality, invoke warnings.filterwarnings(\"ignore\", category=dagster.ExperimentalWarning) or use one of the other methods described at https://docs.python.org/3/library/warnings.html#describing-warning-filters.\n",
      "  @graph_asset(\n",
      "/home/moritz/.pyenv/versions/tecr-data/lib/python3.12/site-packages/dagster/_core/definitions/decorators/asset_decorator.py:767: ExperimentalWarning: Parameter `tags` of function `graph_asset` is experimental. It may break in future versions, even between dot releases. To mute warnings for experimental functionality, invoke warnings.filterwarnings(\"ignore\", category=dagster.ExperimentalWarning) or use one of the other methods described at https://docs.python.org/3/library/warnings.html#describing-warning-filters.\n",
      "  return lambda fn: graph_asset(\n",
      "/home/moritz/Codebase/opentecr/data-orchestration/src/data_orchestration/metanetx/asset.py:215: ExperimentalWarning: Parameter `tags` of function `graph_asset` is experimental. It may break in future versions, even between dot releases. To mute warnings for experimental functionality, invoke warnings.filterwarnings(\"ignore\", category=dagster.ExperimentalWarning) or use one of the other methods described at https://docs.python.org/3/library/warnings.html#describing-warning-filters.\n",
      "  @graph_asset(\n",
      "/home/moritz/.pyenv/versions/tecr-data/lib/python3.12/site-packages/dagster/_core/definitions/decorators/asset_decorator.py:767: ExperimentalWarning: Parameter `tags` of function `graph_asset` is experimental. It may break in future versions, even between dot releases. To mute warnings for experimental functionality, invoke warnings.filterwarnings(\"ignore\", category=dagster.ExperimentalWarning) or use one of the other methods described at https://docs.python.org/3/library/warnings.html#describing-warning-filters.\n",
      "  return lambda fn: graph_asset(\n"
     ]
    }
   ],
   "source": [
    "from data_orchestration import defs"
   ]
  },
  {
   "cell_type": "code",
   "execution_count": 4,
   "id": "4dbe3f66-2473-4104-bf62-a19eb1f5889b",
   "metadata": {},
   "outputs": [
    {
     "name": "stderr",
     "output_type": "stream",
     "text": [
      "2024-08-02 01:37:52 +0200 - dagster - DEBUG - system - Loading file from: /home/moritz/Codebase/opentecr/data-orchestration/work/storage/mnx_chem_prop.arrow using PandasArrowIOManager...\n"
     ]
    }
   ],
   "source": [
    "compounds = defs.load_asset_value(\"mnx_chem_prop\")"
   ]
  }
 ],
 "metadata": {
  "kernelspec": {
   "display_name": "Python 3 (ipykernel)",
   "language": "python",
   "name": "python3"
  },
  "language_info": {
   "codemirror_mode": {
    "name": "ipython",
    "version": 3
   },
   "file_extension": ".py",
   "mimetype": "text/x-python",
   "name": "python",
   "nbconvert_exporter": "python",
   "pygments_lexer": "ipython3",
   "version": "3.12.4"
  }
 },
 "nbformat": 4,
 "nbformat_minor": 5
}
