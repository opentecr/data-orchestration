{
 "cells": [
  {
   "cell_type": "code",
   "execution_count": 1,
   "id": "a5d686f2-6332-476d-93d1-a33437a2e253",
   "metadata": {},
   "outputs": [],
   "source": [
    "import os\n",
    "from pathlib import Path"
   ]
  },
  {
   "cell_type": "code",
   "execution_count": 2,
   "id": "68fac7e6-a36e-4edf-a4e2-b9621e37fa4d",
   "metadata": {},
   "outputs": [],
   "source": [
    "os.environ[\"DAGSTER_HOME\"] = str(Path().resolve().parent / \"work\")"
   ]
  },
  {
   "cell_type": "code",
   "execution_count": 3,
   "id": "d0e926df-5d18-419d-97f4-48cf3a941f95",
   "metadata": {
    "scrolled": true
   },
   "outputs": [
    {
     "name": "stderr",
     "output_type": "stream",
     "text": [
      "/home/moritz/Codebase/opentecr/data-orchestration/src/data_orchestration/opentecr/asset/bronze.py:29: ExperimentalWarning: Parameter `tags` of function `graph_asset` is experimental. It may break in future versions, even between dot releases. To mute warnings for experimental functionality, invoke warnings.filterwarnings(\"ignore\", category=dagster.ExperimentalWarning) or use one of the other methods described at https://docs.python.org/3/library/warnings.html#describing-warning-filters.\n",
      "  @graph_asset(\n",
      "/home/moritz/.pyenv/versions/tecr-data/lib/python3.12/site-packages/dagster/_core/definitions/decorators/asset_decorator.py:767: ExperimentalWarning: Parameter `tags` of function `graph_asset` is experimental. It may break in future versions, even between dot releases. To mute warnings for experimental functionality, invoke warnings.filterwarnings(\"ignore\", category=dagster.ExperimentalWarning) or use one of the other methods described at https://docs.python.org/3/library/warnings.html#describing-warning-filters.\n",
      "  return lambda fn: graph_asset(\n",
      "/home/moritz/Codebase/opentecr/data-orchestration/src/data_orchestration/opentecr/asset/bronze.py:47: ExperimentalWarning: Parameter `tags` of function `graph_asset` is experimental. It may break in future versions, even between dot releases. To mute warnings for experimental functionality, invoke warnings.filterwarnings(\"ignore\", category=dagster.ExperimentalWarning) or use one of the other methods described at https://docs.python.org/3/library/warnings.html#describing-warning-filters.\n",
      "  @graph_asset(\n",
      "/home/moritz/.pyenv/versions/tecr-data/lib/python3.12/site-packages/dagster/_core/definitions/decorators/asset_decorator.py:767: ExperimentalWarning: Parameter `tags` of function `graph_asset` is experimental. It may break in future versions, even between dot releases. To mute warnings for experimental functionality, invoke warnings.filterwarnings(\"ignore\", category=dagster.ExperimentalWarning) or use one of the other methods described at https://docs.python.org/3/library/warnings.html#describing-warning-filters.\n",
      "  return lambda fn: graph_asset(\n",
      "/home/moritz/Codebase/opentecr/data-orchestration/src/data_orchestration/opentecr/asset/bronze.py:63: ExperimentalWarning: Parameter `tags` of function `graph_asset` is experimental. It may break in future versions, even between dot releases. To mute warnings for experimental functionality, invoke warnings.filterwarnings(\"ignore\", category=dagster.ExperimentalWarning) or use one of the other methods described at https://docs.python.org/3/library/warnings.html#describing-warning-filters.\n",
      "  @graph_asset(\n",
      "/home/moritz/.pyenv/versions/tecr-data/lib/python3.12/site-packages/dagster/_core/definitions/decorators/asset_decorator.py:767: ExperimentalWarning: Parameter `tags` of function `graph_asset` is experimental. It may break in future versions, even between dot releases. To mute warnings for experimental functionality, invoke warnings.filterwarnings(\"ignore\", category=dagster.ExperimentalWarning) or use one of the other methods described at https://docs.python.org/3/library/warnings.html#describing-warning-filters.\n",
      "  return lambda fn: graph_asset(\n",
      "/home/moritz/Codebase/opentecr/data-orchestration/src/data_orchestration/opentecr/asset/bronze.py:79: ExperimentalWarning: Parameter `tags` of function `graph_asset` is experimental. It may break in future versions, even between dot releases. To mute warnings for experimental functionality, invoke warnings.filterwarnings(\"ignore\", category=dagster.ExperimentalWarning) or use one of the other methods described at https://docs.python.org/3/library/warnings.html#describing-warning-filters.\n",
      "  @graph_asset(\n",
      "/home/moritz/.pyenv/versions/tecr-data/lib/python3.12/site-packages/dagster/_core/definitions/decorators/asset_decorator.py:767: ExperimentalWarning: Parameter `tags` of function `graph_asset` is experimental. It may break in future versions, even between dot releases. To mute warnings for experimental functionality, invoke warnings.filterwarnings(\"ignore\", category=dagster.ExperimentalWarning) or use one of the other methods described at https://docs.python.org/3/library/warnings.html#describing-warning-filters.\n",
      "  return lambda fn: graph_asset(\n",
      "/home/moritz/.pyenv/versions/tecr-data/lib/python3.12/site-packages/dagster/_core/decorator_utils.py:203: ExperimentalWarning: Parameter `tags` of function `asset` is experimental. It may break in future versions, even between dot releases. To mute warnings for experimental functionality, invoke warnings.filterwarnings(\"ignore\", category=dagster.ExperimentalWarning) or use one of the other methods described at https://docs.python.org/3/library/warnings.html#describing-warning-filters.\n",
      "  return fn(*args, **kwargs)\n",
      "/home/moritz/.pyenv/versions/tecr-data/lib/python3.12/site-packages/dagster/_core/decorator_utils.py:203: ExperimentalWarning: Parameter `tags` of function `asset` is experimental. It may break in future versions, even between dot releases. To mute warnings for experimental functionality, invoke warnings.filterwarnings(\"ignore\", category=dagster.ExperimentalWarning) or use one of the other methods described at https://docs.python.org/3/library/warnings.html#describing-warning-filters.\n",
      "  return fn(*args, **kwargs)\n",
      "/home/moritz/.pyenv/versions/tecr-data/lib/python3.12/site-packages/dagster/_core/decorator_utils.py:203: ExperimentalWarning: Parameter `tags` of function `asset` is experimental. It may break in future versions, even between dot releases. To mute warnings for experimental functionality, invoke warnings.filterwarnings(\"ignore\", category=dagster.ExperimentalWarning) or use one of the other methods described at https://docs.python.org/3/library/warnings.html#describing-warning-filters.\n",
      "  return fn(*args, **kwargs)\n",
      "/home/moritz/.pyenv/versions/tecr-data/lib/python3.12/site-packages/dagster/_core/decorator_utils.py:203: ExperimentalWarning: Parameter `tags` of function `asset` is experimental. It may break in future versions, even between dot releases. To mute warnings for experimental functionality, invoke warnings.filterwarnings(\"ignore\", category=dagster.ExperimentalWarning) or use one of the other methods described at https://docs.python.org/3/library/warnings.html#describing-warning-filters.\n",
      "  return fn(*args, **kwargs)\n",
      "/home/moritz/.pyenv/versions/tecr-data/lib/python3.12/site-packages/dagster/_core/decorator_utils.py:203: ExperimentalWarning: Parameter `tags` of function `asset` is experimental. It may break in future versions, even between dot releases. To mute warnings for experimental functionality, invoke warnings.filterwarnings(\"ignore\", category=dagster.ExperimentalWarning) or use one of the other methods described at https://docs.python.org/3/library/warnings.html#describing-warning-filters.\n",
      "  return fn(*args, **kwargs)\n",
      "/home/moritz/.pyenv/versions/tecr-data/lib/python3.12/site-packages/dagster/_core/decorator_utils.py:203: ExperimentalWarning: Parameter `tags` of function `asset` is experimental. It may break in future versions, even between dot releases. To mute warnings for experimental functionality, invoke warnings.filterwarnings(\"ignore\", category=dagster.ExperimentalWarning) or use one of the other methods described at https://docs.python.org/3/library/warnings.html#describing-warning-filters.\n",
      "  return fn(*args, **kwargs)\n",
      "/home/moritz/.pyenv/versions/tecr-data/lib/python3.12/site-packages/dagster/_core/decorator_utils.py:203: ExperimentalWarning: Parameter `tags` of function `asset` is experimental. It may break in future versions, even between dot releases. To mute warnings for experimental functionality, invoke warnings.filterwarnings(\"ignore\", category=dagster.ExperimentalWarning) or use one of the other methods described at https://docs.python.org/3/library/warnings.html#describing-warning-filters.\n",
      "  return fn(*args, **kwargs)\n",
      "/home/moritz/Codebase/opentecr/data-orchestration/src/data_orchestration/metanetx/asset.py:9: ExperimentalWarning: Parameter `tags` of function `graph_asset` is experimental. It may break in future versions, even between dot releases. To mute warnings for experimental functionality, invoke warnings.filterwarnings(\"ignore\", category=dagster.ExperimentalWarning) or use one of the other methods described at https://docs.python.org/3/library/warnings.html#describing-warning-filters.\n",
      "  @graph_asset(\n",
      "/home/moritz/.pyenv/versions/tecr-data/lib/python3.12/site-packages/dagster/_core/definitions/decorators/asset_decorator.py:767: ExperimentalWarning: Parameter `tags` of function `graph_asset` is experimental. It may break in future versions, even between dot releases. To mute warnings for experimental functionality, invoke warnings.filterwarnings(\"ignore\", category=dagster.ExperimentalWarning) or use one of the other methods described at https://docs.python.org/3/library/warnings.html#describing-warning-filters.\n",
      "  return lambda fn: graph_asset(\n",
      "/home/moritz/Codebase/opentecr/data-orchestration/src/data_orchestration/metanetx/asset.py:25: ExperimentalWarning: Parameter `tags` of function `graph_asset` is experimental. It may break in future versions, even between dot releases. To mute warnings for experimental functionality, invoke warnings.filterwarnings(\"ignore\", category=dagster.ExperimentalWarning) or use one of the other methods described at https://docs.python.org/3/library/warnings.html#describing-warning-filters.\n",
      "  @graph_asset(\n",
      "/home/moritz/.pyenv/versions/tecr-data/lib/python3.12/site-packages/dagster/_core/definitions/decorators/asset_decorator.py:767: ExperimentalWarning: Parameter `tags` of function `graph_asset` is experimental. It may break in future versions, even between dot releases. To mute warnings for experimental functionality, invoke warnings.filterwarnings(\"ignore\", category=dagster.ExperimentalWarning) or use one of the other methods described at https://docs.python.org/3/library/warnings.html#describing-warning-filters.\n",
      "  return lambda fn: graph_asset(\n",
      "/home/moritz/Codebase/opentecr/data-orchestration/src/data_orchestration/metanetx/asset.py:41: ExperimentalWarning: Parameter `tags` of function `graph_asset` is experimental. It may break in future versions, even between dot releases. To mute warnings for experimental functionality, invoke warnings.filterwarnings(\"ignore\", category=dagster.ExperimentalWarning) or use one of the other methods described at https://docs.python.org/3/library/warnings.html#describing-warning-filters.\n",
      "  @graph_asset(\n",
      "/home/moritz/.pyenv/versions/tecr-data/lib/python3.12/site-packages/dagster/_core/definitions/decorators/asset_decorator.py:767: ExperimentalWarning: Parameter `tags` of function `graph_asset` is experimental. It may break in future versions, even between dot releases. To mute warnings for experimental functionality, invoke warnings.filterwarnings(\"ignore\", category=dagster.ExperimentalWarning) or use one of the other methods described at https://docs.python.org/3/library/warnings.html#describing-warning-filters.\n",
      "  return lambda fn: graph_asset(\n",
      "/home/moritz/Codebase/opentecr/data-orchestration/src/data_orchestration/metanetx/asset.py:57: ExperimentalWarning: Parameter `tags` of function `graph_asset` is experimental. It may break in future versions, even between dot releases. To mute warnings for experimental functionality, invoke warnings.filterwarnings(\"ignore\", category=dagster.ExperimentalWarning) or use one of the other methods described at https://docs.python.org/3/library/warnings.html#describing-warning-filters.\n",
      "  @graph_asset(\n",
      "/home/moritz/.pyenv/versions/tecr-data/lib/python3.12/site-packages/dagster/_core/definitions/decorators/asset_decorator.py:767: ExperimentalWarning: Parameter `tags` of function `graph_asset` is experimental. It may break in future versions, even between dot releases. To mute warnings for experimental functionality, invoke warnings.filterwarnings(\"ignore\", category=dagster.ExperimentalWarning) or use one of the other methods described at https://docs.python.org/3/library/warnings.html#describing-warning-filters.\n",
      "  return lambda fn: graph_asset(\n",
      "/home/moritz/Codebase/opentecr/data-orchestration/src/data_orchestration/metanetx/asset.py:73: ExperimentalWarning: Parameter `tags` of function `graph_asset` is experimental. It may break in future versions, even between dot releases. To mute warnings for experimental functionality, invoke warnings.filterwarnings(\"ignore\", category=dagster.ExperimentalWarning) or use one of the other methods described at https://docs.python.org/3/library/warnings.html#describing-warning-filters.\n",
      "  @graph_asset(\n",
      "/home/moritz/.pyenv/versions/tecr-data/lib/python3.12/site-packages/dagster/_core/definitions/decorators/asset_decorator.py:767: ExperimentalWarning: Parameter `tags` of function `graph_asset` is experimental. It may break in future versions, even between dot releases. To mute warnings for experimental functionality, invoke warnings.filterwarnings(\"ignore\", category=dagster.ExperimentalWarning) or use one of the other methods described at https://docs.python.org/3/library/warnings.html#describing-warning-filters.\n",
      "  return lambda fn: graph_asset(\n",
      "/home/moritz/Codebase/opentecr/data-orchestration/src/data_orchestration/metanetx/asset.py:89: ExperimentalWarning: Parameter `tags` of function `graph_asset` is experimental. It may break in future versions, even between dot releases. To mute warnings for experimental functionality, invoke warnings.filterwarnings(\"ignore\", category=dagster.ExperimentalWarning) or use one of the other methods described at https://docs.python.org/3/library/warnings.html#describing-warning-filters.\n",
      "  @graph_asset(\n",
      "/home/moritz/.pyenv/versions/tecr-data/lib/python3.12/site-packages/dagster/_core/definitions/decorators/asset_decorator.py:767: ExperimentalWarning: Parameter `tags` of function `graph_asset` is experimental. It may break in future versions, even between dot releases. To mute warnings for experimental functionality, invoke warnings.filterwarnings(\"ignore\", category=dagster.ExperimentalWarning) or use one of the other methods described at https://docs.python.org/3/library/warnings.html#describing-warning-filters.\n",
      "  return lambda fn: graph_asset(\n",
      "/home/moritz/Codebase/opentecr/data-orchestration/src/data_orchestration/metanetx/asset.py:105: ExperimentalWarning: Parameter `tags` of function `graph_asset` is experimental. It may break in future versions, even between dot releases. To mute warnings for experimental functionality, invoke warnings.filterwarnings(\"ignore\", category=dagster.ExperimentalWarning) or use one of the other methods described at https://docs.python.org/3/library/warnings.html#describing-warning-filters.\n",
      "  @graph_asset(\n",
      "/home/moritz/.pyenv/versions/tecr-data/lib/python3.12/site-packages/dagster/_core/definitions/decorators/asset_decorator.py:767: ExperimentalWarning: Parameter `tags` of function `graph_asset` is experimental. It may break in future versions, even between dot releases. To mute warnings for experimental functionality, invoke warnings.filterwarnings(\"ignore\", category=dagster.ExperimentalWarning) or use one of the other methods described at https://docs.python.org/3/library/warnings.html#describing-warning-filters.\n",
      "  return lambda fn: graph_asset(\n",
      "/home/moritz/Codebase/opentecr/data-orchestration/src/data_orchestration/metanetx/asset.py:121: ExperimentalWarning: Parameter `tags` of function `graph_asset` is experimental. It may break in future versions, even between dot releases. To mute warnings for experimental functionality, invoke warnings.filterwarnings(\"ignore\", category=dagster.ExperimentalWarning) or use one of the other methods described at https://docs.python.org/3/library/warnings.html#describing-warning-filters.\n",
      "  @graph_asset(\n",
      "/home/moritz/.pyenv/versions/tecr-data/lib/python3.12/site-packages/dagster/_core/definitions/decorators/asset_decorator.py:767: ExperimentalWarning: Parameter `tags` of function `graph_asset` is experimental. It may break in future versions, even between dot releases. To mute warnings for experimental functionality, invoke warnings.filterwarnings(\"ignore\", category=dagster.ExperimentalWarning) or use one of the other methods described at https://docs.python.org/3/library/warnings.html#describing-warning-filters.\n",
      "  return lambda fn: graph_asset(\n",
      "/home/moritz/Codebase/opentecr/data-orchestration/src/data_orchestration/metanetx/asset.py:137: ExperimentalWarning: Parameter `tags` of function `graph_asset` is experimental. It may break in future versions, even between dot releases. To mute warnings for experimental functionality, invoke warnings.filterwarnings(\"ignore\", category=dagster.ExperimentalWarning) or use one of the other methods described at https://docs.python.org/3/library/warnings.html#describing-warning-filters.\n",
      "  @graph_asset(\n",
      "/home/moritz/.pyenv/versions/tecr-data/lib/python3.12/site-packages/dagster/_core/definitions/decorators/asset_decorator.py:767: ExperimentalWarning: Parameter `tags` of function `graph_asset` is experimental. It may break in future versions, even between dot releases. To mute warnings for experimental functionality, invoke warnings.filterwarnings(\"ignore\", category=dagster.ExperimentalWarning) or use one of the other methods described at https://docs.python.org/3/library/warnings.html#describing-warning-filters.\n",
      "  return lambda fn: graph_asset(\n",
      "/home/moritz/Codebase/opentecr/data-orchestration/src/data_orchestration/metanetx/asset.py:153: ExperimentalWarning: Parameter `tags` of function `graph_asset` is experimental. It may break in future versions, even between dot releases. To mute warnings for experimental functionality, invoke warnings.filterwarnings(\"ignore\", category=dagster.ExperimentalWarning) or use one of the other methods described at https://docs.python.org/3/library/warnings.html#describing-warning-filters.\n",
      "  @graph_asset(\n",
      "/home/moritz/.pyenv/versions/tecr-data/lib/python3.12/site-packages/dagster/_core/definitions/decorators/asset_decorator.py:767: ExperimentalWarning: Parameter `tags` of function `graph_asset` is experimental. It may break in future versions, even between dot releases. To mute warnings for experimental functionality, invoke warnings.filterwarnings(\"ignore\", category=dagster.ExperimentalWarning) or use one of the other methods described at https://docs.python.org/3/library/warnings.html#describing-warning-filters.\n",
      "  return lambda fn: graph_asset(\n"
     ]
    }
   ],
   "source": [
    "from data_orchestration import defs"
   ]
  },
  {
   "cell_type": "code",
   "execution_count": 4,
   "id": "4dbe3f66-2473-4104-bf62-a19eb1f5889b",
   "metadata": {},
   "outputs": [
    {
     "name": "stderr",
     "output_type": "stream",
     "text": [
      "2024-08-02 00:23:54 +0200 - dagster - DEBUG - system - Loading file from: /home/moritz/Codebase/opentecr/data-orchestration/work/storage/opentecr_compounds.arrow using PandasArrowIOManager...\n"
     ]
    }
   ],
   "source": [
    "compounds = defs.load_asset_value(\"opentecr_compounds\")"
   ]
  },
  {
   "cell_type": "markdown",
   "id": "8fbdcf96-3217-4cd0-880b-4e7d269ce043",
   "metadata": {},
   "source": [
    "Find phase descriptions for compounds."
   ]
  },
  {
   "cell_type": "code",
   "execution_count": 5,
   "id": "c3a0248b-bf81-4559-9f76-295227d75559",
   "metadata": {
    "scrolled": true
   },
   "outputs": [
    {
     "data": {
      "text/plain": [
       "['G(w-8)', 'G(v-7)', 'G(u-6)', 'phosphoribosyl-1-O-(2-thiodiphosphate)']\n",
       "Categories (1249, object): ['((2R,3S,4R,5R)-5-(2-amino-5-formamido-6-oxo-3..., '(+)-5-exo-hydroxycamphor', '(+)-camphor', '(-)-4-carboxymethyl-Δα-but-2-en-4-olide', ..., 'γ-fluoroglutamate', 'γ-glutamohydroxamic acid', 'ω-methylpyridoxal', 'ω-methylpyridoxamine']"
      ]
     },
     "execution_count": 5,
     "metadata": {},
     "output_type": "execute_result"
    }
   ],
   "source": [
    "compounds.loc[compounds[\"compound\"].str.endswith(\")\"), \"compound\"].unique()"
   ]
  }
 ],
 "metadata": {
  "kernelspec": {
   "display_name": "Python 3 (ipykernel)",
   "language": "python",
   "name": "python3"
  },
  "language_info": {
   "codemirror_mode": {
    "name": "ipython",
    "version": 3
   },
   "file_extension": ".py",
   "mimetype": "text/x-python",
   "name": "python",
   "nbconvert_exporter": "python",
   "pygments_lexer": "ipython3",
   "version": "3.12.4"
  }
 },
 "nbformat": 4,
 "nbformat_minor": 5
}
